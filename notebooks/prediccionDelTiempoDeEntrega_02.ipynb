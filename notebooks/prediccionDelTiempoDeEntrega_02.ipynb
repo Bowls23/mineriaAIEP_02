{
 "cells": [
  {
   "cell_type": "markdown",
   "id": "9ab8fc12",
   "metadata": {},
   "source": [
    "Vamos a rehacer el modelo con esas tres variables específicas: Distance (km), Weekend Order y Order Time. La idea será predecir el tiempo de entrega y luego analizar si la distancia y el horario realmente influyen."
   ]
  },
  {
   "cell_type": "markdown",
   "id": "c132bbea",
   "metadata": {},
   "source": [
    "## 1 . Preparación del Modelo\n",
    "Primeromtrnsformamos \"order Time\" para extraer una caracteristica relevante: \"la hora del día\" (Order Hour), que será mucho más util que una marca de tiempo."
   ]
  },
  {
   "cell_type": "code",
   "execution_count": 20,
   "id": "654c6f96",
   "metadata": {},
   "outputs": [],
   "source": [
    "import pandas as pd\n",
    "from sklearn.model_selection import train_test_split\n",
    "from sklearn.linear_model import LinearRegression\n",
    "from sklearn.metrics import r2_score, mean_squared_error\n",
    "import matplotlib.pyplot as plt\n",
    "from sklearn.model_selection import train_test_split\n",
    "\n",
    "\n"
   ]
  },
  {
   "cell_type": "code",
   "execution_count": 3,
   "id": "353b54d9",
   "metadata": {},
   "outputs": [],
   "source": [
    "import pandas as pd\n",
    "\n",
    "df = pd.read_csv(\"../dataset/taco_sales_2024-2025.csv\")"
   ]
  },
  {
   "cell_type": "code",
   "execution_count": 4,
   "id": "883c8c1d",
   "metadata": {},
   "outputs": [
    {
     "data": {
      "text/html": [
       "<div>\n",
       "<style scoped>\n",
       "    .dataframe tbody tr th:only-of-type {\n",
       "        vertical-align: middle;\n",
       "    }\n",
       "\n",
       "    .dataframe tbody tr th {\n",
       "        vertical-align: top;\n",
       "    }\n",
       "\n",
       "    .dataframe thead th {\n",
       "        text-align: right;\n",
       "    }\n",
       "</style>\n",
       "<table border=\"1\" class=\"dataframe\">\n",
       "  <thead>\n",
       "    <tr style=\"text-align: right;\">\n",
       "      <th></th>\n",
       "      <th>Order ID</th>\n",
       "      <th>Restaurant Name</th>\n",
       "      <th>Location</th>\n",
       "      <th>Order Time</th>\n",
       "      <th>Delivery Time</th>\n",
       "      <th>Delivery Duration (min)</th>\n",
       "      <th>Taco Size</th>\n",
       "      <th>Taco Type</th>\n",
       "      <th>Toppings Count</th>\n",
       "      <th>Distance (km)</th>\n",
       "      <th>Price ($)</th>\n",
       "      <th>Tip ($)</th>\n",
       "      <th>Weekend Order</th>\n",
       "    </tr>\n",
       "  </thead>\n",
       "  <tbody>\n",
       "    <tr>\n",
       "      <th>0</th>\n",
       "      <td>770487</td>\n",
       "      <td>El Taco Loco</td>\n",
       "      <td>New York</td>\n",
       "      <td>01-08-2024 14:55</td>\n",
       "      <td>01-08-2024 15:36</td>\n",
       "      <td>41</td>\n",
       "      <td>Regular</td>\n",
       "      <td>Chicken Taco</td>\n",
       "      <td>5</td>\n",
       "      <td>3.01</td>\n",
       "      <td>9.25</td>\n",
       "      <td>2.22</td>\n",
       "      <td>False</td>\n",
       "    </tr>\n",
       "    <tr>\n",
       "      <th>1</th>\n",
       "      <td>671858</td>\n",
       "      <td>El Taco Loco</td>\n",
       "      <td>San Antonio</td>\n",
       "      <td>23-11-2024 17:11</td>\n",
       "      <td>23-11-2024 17:25</td>\n",
       "      <td>14</td>\n",
       "      <td>Regular</td>\n",
       "      <td>Beef Taco</td>\n",
       "      <td>1</td>\n",
       "      <td>6.20</td>\n",
       "      <td>4.25</td>\n",
       "      <td>3.01</td>\n",
       "      <td>True</td>\n",
       "    </tr>\n",
       "    <tr>\n",
       "      <th>2</th>\n",
       "      <td>688508</td>\n",
       "      <td>Taco Haven</td>\n",
       "      <td>Austin</td>\n",
       "      <td>21-11-2024 20:24</td>\n",
       "      <td>21-11-2024 21:02</td>\n",
       "      <td>38</td>\n",
       "      <td>Large</td>\n",
       "      <td>Pork Taco</td>\n",
       "      <td>2</td>\n",
       "      <td>20.33</td>\n",
       "      <td>7.00</td>\n",
       "      <td>0.02</td>\n",
       "      <td>False</td>\n",
       "    </tr>\n",
       "    <tr>\n",
       "      <th>3</th>\n",
       "      <td>944962</td>\n",
       "      <td>Spicy Taco House</td>\n",
       "      <td>Dallas</td>\n",
       "      <td>21-09-2024 06:43</td>\n",
       "      <td>21-09-2024 07:28</td>\n",
       "      <td>45</td>\n",
       "      <td>Regular</td>\n",
       "      <td>Chicken Taco</td>\n",
       "      <td>2</td>\n",
       "      <td>3.00</td>\n",
       "      <td>5.50</td>\n",
       "      <td>1.90</td>\n",
       "      <td>True</td>\n",
       "    </tr>\n",
       "    <tr>\n",
       "      <th>4</th>\n",
       "      <td>476417</td>\n",
       "      <td>Casa del Taco</td>\n",
       "      <td>San Antonio</td>\n",
       "      <td>24-07-2024 11:01</td>\n",
       "      <td>24-07-2024 11:16</td>\n",
       "      <td>15</td>\n",
       "      <td>Large</td>\n",
       "      <td>Pork Taco</td>\n",
       "      <td>0</td>\n",
       "      <td>24.34</td>\n",
       "      <td>4.50</td>\n",
       "      <td>1.14</td>\n",
       "      <td>False</td>\n",
       "    </tr>\n",
       "    <tr>\n",
       "      <th>...</th>\n",
       "      <td>...</td>\n",
       "      <td>...</td>\n",
       "      <td>...</td>\n",
       "      <td>...</td>\n",
       "      <td>...</td>\n",
       "      <td>...</td>\n",
       "      <td>...</td>\n",
       "      <td>...</td>\n",
       "      <td>...</td>\n",
       "      <td>...</td>\n",
       "      <td>...</td>\n",
       "      <td>...</td>\n",
       "      <td>...</td>\n",
       "    </tr>\n",
       "    <tr>\n",
       "      <th>995</th>\n",
       "      <td>164891</td>\n",
       "      <td>La Vida Taco</td>\n",
       "      <td>Austin</td>\n",
       "      <td>27-05-2024 11:12</td>\n",
       "      <td>27-05-2024 12:11</td>\n",
       "      <td>59</td>\n",
       "      <td>Large</td>\n",
       "      <td>Veggie Taco</td>\n",
       "      <td>2</td>\n",
       "      <td>20.04</td>\n",
       "      <td>7.00</td>\n",
       "      <td>2.80</td>\n",
       "      <td>False</td>\n",
       "    </tr>\n",
       "    <tr>\n",
       "      <th>996</th>\n",
       "      <td>232442</td>\n",
       "      <td>The Taco Stand</td>\n",
       "      <td>San Antonio</td>\n",
       "      <td>03-04-2025 20:51</td>\n",
       "      <td>03-04-2025 21:29</td>\n",
       "      <td>38</td>\n",
       "      <td>Regular</td>\n",
       "      <td>Fish Taco</td>\n",
       "      <td>0</td>\n",
       "      <td>13.69</td>\n",
       "      <td>3.00</td>\n",
       "      <td>1.38</td>\n",
       "      <td>False</td>\n",
       "    </tr>\n",
       "    <tr>\n",
       "      <th>997</th>\n",
       "      <td>251729</td>\n",
       "      <td>Urban Tacos</td>\n",
       "      <td>Houston</td>\n",
       "      <td>23-01-2025 05:33</td>\n",
       "      <td>23-01-2025 06:41</td>\n",
       "      <td>68</td>\n",
       "      <td>Regular</td>\n",
       "      <td>Pork Taco</td>\n",
       "      <td>2</td>\n",
       "      <td>4.07</td>\n",
       "      <td>5.50</td>\n",
       "      <td>2.00</td>\n",
       "      <td>False</td>\n",
       "    </tr>\n",
       "    <tr>\n",
       "      <th>998</th>\n",
       "      <td>940215</td>\n",
       "      <td>Taco Fiesta</td>\n",
       "      <td>San Antonio</td>\n",
       "      <td>05-09-2024 15:49</td>\n",
       "      <td>05-09-2024 16:38</td>\n",
       "      <td>49</td>\n",
       "      <td>Regular</td>\n",
       "      <td>Veggie Taco</td>\n",
       "      <td>5</td>\n",
       "      <td>14.56</td>\n",
       "      <td>9.25</td>\n",
       "      <td>1.89</td>\n",
       "      <td>False</td>\n",
       "    </tr>\n",
       "    <tr>\n",
       "      <th>999</th>\n",
       "      <td>326183</td>\n",
       "      <td>Grande Tacos</td>\n",
       "      <td>Phoenix</td>\n",
       "      <td>19-10-2024 14:21</td>\n",
       "      <td>19-10-2024 14:38</td>\n",
       "      <td>17</td>\n",
       "      <td>Large</td>\n",
       "      <td>Chicken Taco</td>\n",
       "      <td>5</td>\n",
       "      <td>5.66</td>\n",
       "      <td>10.75</td>\n",
       "      <td>3.66</td>\n",
       "      <td>True</td>\n",
       "    </tr>\n",
       "  </tbody>\n",
       "</table>\n",
       "<p>1000 rows × 13 columns</p>\n",
       "</div>"
      ],
      "text/plain": [
       "     Order ID   Restaurant Name     Location        Order Time  \\\n",
       "0      770487      El Taco Loco     New York  01-08-2024 14:55   \n",
       "1      671858      El Taco Loco  San Antonio  23-11-2024 17:11   \n",
       "2      688508        Taco Haven       Austin  21-11-2024 20:24   \n",
       "3      944962  Spicy Taco House       Dallas  21-09-2024 06:43   \n",
       "4      476417     Casa del Taco  San Antonio  24-07-2024 11:01   \n",
       "..        ...               ...          ...               ...   \n",
       "995    164891      La Vida Taco       Austin  27-05-2024 11:12   \n",
       "996    232442    The Taco Stand  San Antonio  03-04-2025 20:51   \n",
       "997    251729       Urban Tacos      Houston  23-01-2025 05:33   \n",
       "998    940215       Taco Fiesta  San Antonio  05-09-2024 15:49   \n",
       "999    326183      Grande Tacos      Phoenix  19-10-2024 14:21   \n",
       "\n",
       "        Delivery Time  Delivery Duration (min) Taco Size     Taco Type  \\\n",
       "0    01-08-2024 15:36                       41   Regular  Chicken Taco   \n",
       "1    23-11-2024 17:25                       14   Regular     Beef Taco   \n",
       "2    21-11-2024 21:02                       38     Large     Pork Taco   \n",
       "3    21-09-2024 07:28                       45   Regular  Chicken Taco   \n",
       "4    24-07-2024 11:16                       15     Large     Pork Taco   \n",
       "..                ...                      ...       ...           ...   \n",
       "995  27-05-2024 12:11                       59     Large   Veggie Taco   \n",
       "996  03-04-2025 21:29                       38   Regular     Fish Taco   \n",
       "997  23-01-2025 06:41                       68   Regular     Pork Taco   \n",
       "998  05-09-2024 16:38                       49   Regular   Veggie Taco   \n",
       "999  19-10-2024 14:38                       17     Large  Chicken Taco   \n",
       "\n",
       "     Toppings Count  Distance (km)  Price ($)  Tip ($)  Weekend Order  \n",
       "0                 5           3.01       9.25     2.22          False  \n",
       "1                 1           6.20       4.25     3.01           True  \n",
       "2                 2          20.33       7.00     0.02          False  \n",
       "3                 2           3.00       5.50     1.90           True  \n",
       "4                 0          24.34       4.50     1.14          False  \n",
       "..              ...            ...        ...      ...            ...  \n",
       "995               2          20.04       7.00     2.80          False  \n",
       "996               0          13.69       3.00     1.38          False  \n",
       "997               2           4.07       5.50     2.00          False  \n",
       "998               5          14.56       9.25     1.89          False  \n",
       "999               5           5.66      10.75     3.66           True  \n",
       "\n",
       "[1000 rows x 13 columns]"
      ]
     },
     "execution_count": 4,
     "metadata": {},
     "output_type": "execute_result"
    }
   ],
   "source": [
    "df"
   ]
  },
  {
   "cell_type": "code",
   "execution_count": 40,
   "id": "cf630e17",
   "metadata": {},
   "outputs": [
    {
     "name": "stdout",
     "output_type": "stream",
     "text": [
      "<class 'pandas.core.frame.DataFrame'>\n",
      "RangeIndex: 1000 entries, 0 to 999\n",
      "Data columns (total 14 columns):\n",
      " #   Column                   Non-Null Count  Dtype  \n",
      "---  ------                   --------------  -----  \n",
      " 0   Order ID                 1000 non-null   int64  \n",
      " 1   Restaurant Name          1000 non-null   object \n",
      " 2   Location                 1000 non-null   object \n",
      " 3   Order Time               1000 non-null   object \n",
      " 4   Delivery Time            1000 non-null   object \n",
      " 5   Delivery Duration (min)  1000 non-null   int64  \n",
      " 6   Taco Size                1000 non-null   object \n",
      " 7   Taco Type                1000 non-null   object \n",
      " 8   Toppings Count           1000 non-null   int64  \n",
      " 9   Distance (km)            1000 non-null   float64\n",
      " 10  Price ($)                1000 non-null   float64\n",
      " 11  Tip ($)                  1000 non-null   float64\n",
      " 12  Weekend Order            1000 non-null   bool   \n",
      " 13  Order Hour               1000 non-null   int32  \n",
      "dtypes: bool(1), float64(3), int32(1), int64(3), object(6)\n",
      "memory usage: 98.8+ KB\n"
     ]
    }
   ],
   "source": [
    "df.info()"
   ]
  },
  {
   "cell_type": "code",
   "execution_count": 14,
   "id": "6c8cffc0",
   "metadata": {},
   "outputs": [
    {
     "data": {
      "text/plain": [
       "0      01-08-2024 14:55\n",
       "1      23-11-2024 17:11\n",
       "2      21-11-2024 20:24\n",
       "3      21-09-2024 06:43\n",
       "4      24-07-2024 11:01\n",
       "             ...       \n",
       "995    27-05-2024 11:12\n",
       "996    03-04-2025 20:51\n",
       "997    23-01-2025 05:33\n",
       "998    05-09-2024 15:49\n",
       "999    19-10-2024 14:21\n",
       "Name: Order Time, Length: 1000, dtype: object"
      ]
     },
     "execution_count": 14,
     "metadata": {},
     "output_type": "execute_result"
    }
   ],
   "source": [
    "df[\"Order Time\"]"
   ]
  },
  {
   "cell_type": "markdown",
   "id": "f3fe1e1f",
   "metadata": {},
   "source": [
    "# Supongamos que ya cargaste tu DataFrame\n",
    "df['Order Hour'] = pd.to_datetime(df['Order Time']).dt.hour\n",
    "\n",
    "\n",
    "# Variables independientes\n",
    "X = df[['Distance (km)', 'Weekend Order', 'Order Hour']]\n",
    "y = df['Delivery Duration (min)']\n",
    "\n",
    "# Entrenamiento\n",
    "X_train, X_test, y_train, y_test = train_test_split(X, y, test_size=0.2, random_state=42)\n",
    "\n",
    "modelo = LinearRegression()\n",
    "modelo.fit(X_train, y_train)\n",
    "\n",
    "# Predicción\n",
    "y_pred = modelo.predict(X_test)\n",
    "\n",
    "# Evaluación\n",
    "r2 = r2_score(y_test, y_pred)\n",
    "rmse = mean_squared_error(y_test, y_pred, squared=False)\n",
    "\n",
    "print(f\"R² score: {r2:.2f}\")\n",
    "print(f\"RMSE: {rmse:.2f}\")"
   ]
  },
  {
   "cell_type": "code",
   "execution_count": 34,
   "id": "bb5e9a94",
   "metadata": {},
   "outputs": [
    {
     "name": "stdout",
     "output_type": "stream",
     "text": [
      "R² score: 1.00\n",
      "RMSE: 0.00\n"
     ]
    }
   ],
   "source": [
    "# Crear la columna 'Order Hour' extrayendo la hora de 'Order Time'\n",
    "df[\"Order Hour\"] = pd.to_datetime(df[\"Order Time\"], format=\"%d-%m-%Y %H:%M\").dt.hour\n",
    "\n",
    "\n",
    "# Variables independientes\n",
    "X = df[['Distance (km)', 'Weekend Order', 'Order Hour', 'Toppings Count']]\n",
    "#y = df['Delivery Duration (min)']\n",
    "#y = df[\"Delivery Duration (min)\"]\n",
    "y = df[\"Distance (km)\"]\n",
    "\n",
    "\n",
    "# Entrenamiento\n",
    "X_train, X_test, y_train, y_test = train_test_split(X, y, test_size=0.2, random_state=10)\n",
    "\n",
    "modelo = LinearRegression()\n",
    "modelo.fit(X_train, y_train)\n",
    "\n",
    "# Predicción\n",
    "y_pred = modelo.predict(X_test)\n",
    "\n",
    "# Evaluación\n",
    "r2 = r2_score(y_test, y_pred)\n",
    "import numpy as np\n",
    "\n",
    "rmse = np.sqrt(mean_squared_error(y_test, y_pred))\n",
    "\n",
    "print(f\"R² score: {r2:.2f}\")\n",
    "print(f\"RMSE: {rmse:.2f}\")"
   ]
  },
  {
   "cell_type": "markdown",
   "id": "8cd732c8",
   "metadata": {},
   "source": [
    "2. Interpretamos los coeficoentes"
   ]
  },
  {
   "cell_type": "code",
   "execution_count": 36,
   "id": "a561779f",
   "metadata": {},
   "outputs": [
    {
     "name": "stdout",
     "output_type": "stream",
     "text": [
      "Distance (km)     1.000000e+00\n",
      "Weekend Order    -1.277724e-16\n",
      "Order Hour        1.416007e-16\n",
      "Toppings Count   -3.254462e-17\n",
      "dtype: float64\n"
     ]
    }
   ],
   "source": [
    "coef = pd.Series(modelo.coef_, index=X.columns)\n",
    "print(coef)\n"
   ]
  },
  {
   "cell_type": "markdown",
   "id": "dab5b613",
   "metadata": {},
   "source": [
    "Distance (km): ¿El coeficiente es positivo y significativo? Entonces la distancia aumenta el tiempo de entrega.\n",
    "Weekend Order: ¿El coeficiente es positivo? Entonces los fines de semana tienden a demorar más (o menos si es negativo).\n",
    "Order Hour: Este te dice si cierto momento del día afecta los tiempos (ej. las 13:00 o 20:00)."
   ]
  },
  {
   "cell_type": "markdown",
   "id": "be8e1170",
   "metadata": {},
   "source": [
    "## Interpretación de los coeficientes actualizados\n",
    "* Distance (km): 1.00 Este coeficiente significa que por cada kilómetro adicional recorrido, el tiempo de entrega aumenta en exactamente 1 minuto. Es un resultado perfectamente lineal y lógico, aunque también algo sospechosamente perfecto — puede indicar que la relación fue forzada o los datos están muy idealizados.\n",
    "* Weekend Order: -1.28 × 10⁻¹⁶ Este valor está prácticamente en cero, lo cual sugiere que hacer un pedido en fin de semana no tiene impacto real en el tiempo de entrega, al menos según este modelo. Es una variable estadísticamente insignificante aquí.\n",
    "* Order Hour: 1.42 × 10⁻¹⁶ También extremadamente cercano a cero, indicando que el momento del día en que se hace el pedido no influye de manera observable en el tiempo de entrega. Posiblemente los pedidos fluyen igual durante el día, o esta variable está mal representada (quizás hora en formato entero no es suficiente).\n",
    "* Toppings Count: –3.25 × 10⁻¹⁷ Este también es irrelevante para el modelo. No parece que el número de toppings tenga ningún impacto significativo.\n",
    "## Conclusión y reflexión\n",
    "Con estos resultados, la única variable que el modelo está tomando realmente en cuenta es la distancia, y lo hace de forma perfectamente proporcional. Esto puede significar que:\n",
    "* Los tiempos de entrega en tu dataset dependen casi exclusivamente de la distancia.\n",
    "* O bien el modelo ha sido sobreajustado o creado con un subconjunto de datos simplificado que no refleja la complejidad del mundo real.\n",
    "* O quizás has generado los datos como prueba, en cuyo caso está funcionando como esperabas.\n"
   ]
  },
  {
   "cell_type": "markdown",
   "id": "0fb28c8c",
   "metadata": {},
   "source": [
    "3. Visualización del impacto horario"
   ]
  },
  {
   "cell_type": "code",
   "execution_count": 37,
   "id": "6d864d7e",
   "metadata": {},
   "outputs": [
    {
     "data": {
      "image/png": "[encoded data removed]",
      "text/plain": [
       "<Figure size 640x480 with 1 Axes>"
      ]
     },
     "metadata": {},
     "output_type": "display_data"
    }
   ],
   "source": [
    "import seaborn as sns\n",
    "\n",
    "sns.lineplot(x='Order Hour', y='Delivery Duration (min)', data=df)\n",
    "plt.title('Tiempo promedio de entrega según hora del día')\n",
    "plt.ylabel('Tiempo de entrega (min)')\n",
    "plt.xlabel('Hora del pedido')\n",
    "plt.show()\n"
   ]
  },
  {
   "cell_type": "code",
   "execution_count": 38,
   "id": "024eff6f",
   "metadata": {},
   "outputs": [
    {
     "name": "stdout",
     "output_type": "stream",
     "text": [
      "¿Predicciones distintas de y_test?: True\n"
     ]
    }
   ],
   "source": [
    "print(\"¿Predicciones distintas de y_test?:\", not (y_pred == y_test).all())\n"
   ]
  },
  {
   "cell_type": "code",
   "execution_count": 39,
   "id": "282eef54",
   "metadata": {},
   "outputs": [
    {
     "data": {
      "image/png": "[encoded data removed]",
      "text/plain": [
       "<Figure size 640x480 with 1 Axes>"
      ]
     },
     "metadata": {},
     "output_type": "display_data"
    }
   ],
   "source": [
    "import matplotlib.pyplot as plt\n",
    "residuals = y_test - y_pred\n",
    "plt.hist(residuals, bins=30)\n",
    "plt.title(\"Distribución de errores (residuales)\")\n",
    "plt.show()\n"
   ]
  }
 ],
 "metadata": {
  "kernelspec": {
   "display_name": "venv",
   "language": "python",
   "name": "python3"
  },
  "language_info": {
   "codemirror_mode": {
    "name": "ipython",
    "version": 3
   },
   "file_extension": ".py",
   "mimetype": "text/x-python",
   "name": "python",
   "nbconvert_exporter": "python",
   "pygments_lexer": "ipython3",
   "version": "3.11.0"
  }
 },
 "nbformat": 4,
 "nbformat_minor": 5
}
